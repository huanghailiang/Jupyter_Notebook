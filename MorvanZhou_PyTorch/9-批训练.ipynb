{
 "cells": [
  {
   "cell_type": "markdown",
   "metadata": {},
   "source": [
    "https://morvanzhou.github.io/tutorials/machine-learning/torch/3-05-train-on-batch/"
   ]
  },
  {
   "cell_type": "markdown",
   "metadata": {},
   "source": [
    "# 要点"
   ]
  },
  {
   "cell_type": "markdown",
   "metadata": {},
   "source": [
    "Torch中提供了`DataLoader`帮你整理你的数据结构，我们用它来包装自己的数据，进行训练，而且训练有很多途径。"
   ]
  },
  {
   "cell_type": "markdown",
   "metadata": {},
   "source": [
    "# DataLoader"
   ]
  },
  {
   "cell_type": "markdown",
   "metadata": {},
   "source": [
    "`DataLoader`是torch给你用来包装自己数据的工具。所以我们要将自己的（numpy array或其他）数据形式转换成Tensor，然后再放进这个包装器中。使用`DataLoader`可以帮助我们有效地迭代数据。"
   ]
  },
  {
   "cell_type": "code",
   "execution_count": 1,
   "metadata": {},
   "outputs": [
    {
     "name": "stdout",
     "output_type": "stream",
     "text": [
      "Epoch: 0 |Step: 0 |batch x: [ 5.  7. 10.  3.  4.] |batch y: [6. 4. 1. 8. 7.]\n",
      "Epoch: 0 |Step: 1 |batch x: [2. 1. 8. 9. 6.] |batch y: [ 9. 10.  3.  2.  5.]\n",
      "Epoch: 1 |Step: 0 |batch x: [ 4.  6.  7. 10.  8.] |batch y: [7. 5. 4. 1. 3.]\n",
      "Epoch: 1 |Step: 1 |batch x: [5. 3. 2. 1. 9.] |batch y: [ 6.  8.  9. 10.  2.]\n",
      "Epoch: 2 |Step: 0 |batch x: [ 4.  2.  5.  6. 10.] |batch y: [7. 9. 6. 5. 1.]\n",
      "Epoch: 2 |Step: 1 |batch x: [3. 9. 1. 8. 7.] |batch y: [ 8.  2. 10.  3.  4.]\n"
     ]
    }
   ],
   "source": [
    "import torch\n",
    "import torch.utils.data as Data\n",
    "torch.manual_seed(1) #reproducible\n",
    "\n",
    "BATCH_SIZE=5 #批训练地数据个数\n",
    "\n",
    "x = torch.linspace(1,10,10) # x data (torch tensor)\n",
    "y = torch.linspace(10,1,10) # y data (torch tensor)\n",
    "\n",
    "#先转换成torch能识别地Dataset\n",
    "torch_dataset = Data.TensorDataset(x,y)\n",
    "\n",
    "#把dataset放入DataLoader\n",
    "loader = Data.DataLoader(\n",
    "    dataset = torch_dataset, # torch TensorDataset format\n",
    "    batch_size = BATCH_SIZE, #mini batch size\n",
    "    shuffle = True, #要不要打乱数据（打乱比较好）\n",
    "    num_workers = 2, #多线程来读取数据\n",
    ")\n",
    "\n",
    "for epoch in range(3): #训练所有（整套）数据3次\n",
    "    for step,(batch_x,batch_y) in enumerate(loader): #每一步loader释放一小批数据来学习\n",
    "        #假设这就是你训练地地方......\n",
    "        \n",
    "        #打出来一些数据\n",
    "        print('Epoch:',epoch,'|Step:',step,'|batch x:',batch_x.numpy(),'|batch y:',batch_y.numpy())"
   ]
  },
  {
   "cell_type": "markdown",
   "metadata": {},
   "source": [
    "我们可以看出每步都导出了5个数据进行学习，并且每个epoch都是先打乱了以后再导出地。"
   ]
  },
  {
   "cell_type": "markdown",
   "metadata": {},
   "source": [
    "真正方便地是我们可以改变`BATCH_SIZE`地值，假设`BATCH_SIZE=8`，那么当`step=0`时，会导出8个数据进行学习，但是当`step=1`时，数据库中不够时，就会返回这个epoch中剩下地数据"
   ]
  },
  {
   "cell_type": "code",
   "execution_count": 2,
   "metadata": {},
   "outputs": [
    {
     "name": "stdout",
     "output_type": "stream",
     "text": [
      "Epoch: 0 |Step: 0 |batch x: [ 5.  7. 10.  3.  4.  2.  1.  8.] |batch y: [ 6.  4.  1.  8.  7.  9. 10.  3.]\n",
      "Epoch: 0 |Step: 1 |batch x: [9. 6.] |batch y: [2. 5.]\n",
      "Epoch: 1 |Step: 0 |batch x: [ 4.  6.  7. 10.  8.  5.  3.  2.] |batch y: [7. 5. 4. 1. 3. 6. 8. 9.]\n",
      "Epoch: 1 |Step: 1 |batch x: [1. 9.] |batch y: [10.  2.]\n",
      "Epoch: 2 |Step: 0 |batch x: [ 4.  2.  5.  6. 10.  3.  9.  1.] |batch y: [ 7.  9.  6.  5.  1.  8.  2. 10.]\n",
      "Epoch: 2 |Step: 1 |batch x: [8. 7.] |batch y: [3. 4.]\n"
     ]
    }
   ],
   "source": [
    "import torch\n",
    "import torch.utils.data as Data\n",
    "torch.manual_seed(1) #reproducible\n",
    "\n",
    "BATCH_SIZE=8 #批训练地数据个数\n",
    "\n",
    "x = torch.linspace(1,10,10) # x data (torch tensor)\n",
    "y = torch.linspace(10,1,10) # y data (torch tensor)\n",
    "\n",
    "#先转换成torch能识别地Dataset\n",
    "torch_dataset = Data.TensorDataset(x,y)\n",
    "\n",
    "#把dataset放入DataLoader\n",
    "loader = Data.DataLoader(\n",
    "    dataset = torch_dataset, # torch TensorDataset format\n",
    "    batch_size = BATCH_SIZE, #mini batch size\n",
    "    shuffle = True, #要不要打乱数据（打乱比较好）\n",
    "    num_workers = 2, #多线程来读取数据\n",
    ")\n",
    "\n",
    "for epoch in range(3): #训练所有（整套）数据3次\n",
    "    for step,(batch_x,batch_y) in enumerate(loader): #每一步loader释放一小批数据来学习\n",
    "        #假设这就是你训练地地方......\n",
    "        \n",
    "        #打出来一些数据\n",
    "        print('Epoch:',epoch,'|Step:',step,'|batch x:',batch_x.numpy(),'|batch y:',batch_y.numpy())"
   ]
  },
  {
   "cell_type": "markdown",
   "metadata": {},
   "source": [
    "# 完整程序"
   ]
  },
  {
   "cell_type": "code",
   "execution_count": 3,
   "metadata": {},
   "outputs": [
    {
     "name": "stdout",
     "output_type": "stream",
     "text": [
      "Epoch:  0 | Step:  0 | batch x:  [ 5.  7. 10.  3.  4.] | batch y:  [6. 4. 1. 8. 7.]\n",
      "Epoch:  0 | Step:  1 | batch x:  [2. 1. 8. 9. 6.] | batch y:  [ 9. 10.  3.  2.  5.]\n",
      "Epoch:  1 | Step:  0 | batch x:  [ 4.  6.  7. 10.  8.] | batch y:  [7. 5. 4. 1. 3.]\n",
      "Epoch:  1 | Step:  1 | batch x:  [5. 3. 2. 1. 9.] | batch y:  [ 6.  8.  9. 10.  2.]\n",
      "Epoch:  2 | Step:  0 | batch x:  [ 4.  2.  5.  6. 10.] | batch y:  [7. 9. 6. 5. 1.]\n",
      "Epoch:  2 | Step:  1 | batch x:  [3. 9. 1. 8. 7.] | batch y:  [ 8.  2. 10.  3.  4.]\n"
     ]
    }
   ],
   "source": [
    "\"\"\"\n",
    "View more, visit my tutorial page: https://morvanzhou.github.io/tutorials/\n",
    "My Youtube Channel: https://www.youtube.com/user/MorvanZhou\n",
    "Dependencies:\n",
    "torch: 0.1.11\n",
    "\"\"\"\n",
    "import torch\n",
    "import torch.utils.data as Data\n",
    "\n",
    "torch.manual_seed(1)    # reproducible\n",
    "\n",
    "BATCH_SIZE = 5\n",
    "# BATCH_SIZE = 8\n",
    "\n",
    "x = torch.linspace(1, 10, 10)       # this is x data (torch tensor)\n",
    "y = torch.linspace(10, 1, 10)       # this is y data (torch tensor)\n",
    "\n",
    "torch_dataset = Data.TensorDataset(x, y)\n",
    "loader = Data.DataLoader(\n",
    "    dataset=torch_dataset,      # torch TensorDataset format\n",
    "    batch_size=BATCH_SIZE,      # mini batch size\n",
    "    shuffle=True,               # random shuffle for training\n",
    "    num_workers=2,              # subprocesses for loading data\n",
    ")\n",
    "\n",
    "\n",
    "def show_batch():\n",
    "    for epoch in range(3):   # train entire dataset 3 times\n",
    "        for step, (batch_x, batch_y) in enumerate(loader):  # for each training step\n",
    "            # train your data...\n",
    "            print('Epoch: ', epoch, '| Step: ', step, '| batch x: ',\n",
    "                  batch_x.numpy(), '| batch y: ', batch_y.numpy())\n",
    "\n",
    "\n",
    "if __name__ == '__main__':\n",
    "    show_batch()\n"
   ]
  },
  {
   "cell_type": "code",
   "execution_count": null,
   "metadata": {},
   "outputs": [],
   "source": []
  }
 ],
 "metadata": {
  "kernelspec": {
   "display_name": "Python 3",
   "language": "python",
   "name": "python3"
  },
  "language_info": {
   "codemirror_mode": {
    "name": "ipython",
    "version": 3
   },
   "file_extension": ".py",
   "mimetype": "text/x-python",
   "name": "python",
   "nbconvert_exporter": "python",
   "pygments_lexer": "ipython3",
   "version": "3.6.3"
  }
 },
 "nbformat": 4,
 "nbformat_minor": 2
}
