{
 "cells": [
  {
   "cell_type": "markdown",
   "metadata": {},
   "source": [
    "CIFAR-10数据加载及预处理"
   ]
  },
  {
   "cell_type": "code",
   "execution_count": 5,
   "metadata": {},
   "outputs": [
    {
     "name": "stdout",
     "output_type": "stream",
     "text": [
      "Files already downloaded and verified\n",
      "Files already downloaded and verified\n"
     ]
    }
   ],
   "source": [
    "import torch as t\n",
    "import torchvision as tv\n",
    "import torchvision.transforms as transforms\n",
    "from torchvision.transforms import ToPILImage\n",
    "show = ToPILImage() #可以把Tensor转成Image，方便可视化\n",
    "\n",
    "#第一次运行程序torchvision会自动下载CIFAR-10数据集\n",
    "#如果已经下载有CIFAR-10,可通过root参数指定\n",
    "\n",
    "#定义对数据的预处理\n",
    "transform = transforms.Compose([\n",
    "    transforms.ToTensor(), #转为Tensor\n",
    "    transforms.Normalize((0.5, 0.5, 0.5),(0.5, 0.5, 0.5)), #归一化\n",
    "])\n",
    "\n",
    "#训练集\n",
    "\n",
    "trainset = tv.datasets.CIFAR10(\n",
    "                    root='F:\\\\python_study\\\\cifar-100-python\\\\',\n",
    "                    train = True,\n",
    "                    download = True,\n",
    "                    transform = transform)\n",
    "\n",
    "trainloader = t.utils.data.DataLoader(\n",
    "                    trainset,\n",
    "                    batch_size=4,\n",
    "                    shuffle=True,\n",
    "                    num_workers=2)\n",
    "\n",
    "#测试集\n",
    "testset = tv.datasets.CIFAR10(\n",
    "                    'F:\\\\python_study\\\\cifar-100-python\\\\',\n",
    "                    train = False,\n",
    "                    download = True,\n",
    "                    transform = transform)\n",
    "\n",
    "testloader = t.utils.data.DataLoader(\n",
    "                    testset,\n",
    "                    batch_size = 4,\n",
    "                    shuffle = False,\n",
    "                    num_workers = 2)\n",
    "\n",
    "classes = ('plane', 'car', 'bird', 'cat',\n",
    "          'deer', 'dog', 'frog', 'horse', 'ship', 'truck')"
   ]
  },
  {
   "cell_type": "code",
   "execution_count": 6,
   "metadata": {},
   "outputs": [
    {
     "name": "stdout",
     "output_type": "stream",
     "text": [
      "ship\n"
     ]
    },
    {
     "data": {
      "image/png": "[encoded data removed]",
      "text/plain": [
       "<PIL.Image.Image image mode=RGB size=100x100 at 0x22095BECEB8>"
      ]
     },
     "execution_count": 6,
     "metadata": {},
     "output_type": "execute_result"
    }
   ],
   "source": [
    "(data, label) = trainset[100]\n",
    "print(classes[label])\n",
    "\n",
    "#(data+1)/2 是为了还原被归一化的数据\n",
    "show((data+1)/2).resize((100,100))"
   ]
  },
  {
   "cell_type": "code",
   "execution_count": 7,
   "metadata": {},
   "outputs": [
    {
     "name": "stdout",
     "output_type": "stream",
     "text": [
      "        dog        bird       plane         car\n"
     ]
    },
    {
     "data": {
      "image/png": "[encoded data removed]",
      "text/plain": [
       "<PIL.Image.Image image mode=RGB size=400x100 at 0x220831A4BE0>"
      ]
     },
     "execution_count": 7,
     "metadata": {},
     "output_type": "execute_result"
    }
   ],
   "source": [
    "dataiter = iter(trainloader)\n",
    "images, labels = dataiter.next() #返回4张图片及标签\n",
    "print(' '.join('%11s'%classes[labels[j]] for j in range(4)))\n",
    "show(tv.utils.make_grid((images + 1)/2)).resize((400,100))"
   ]
  },
  {
   "cell_type": "markdown",
   "metadata": {},
   "source": [
    "定义网络"
   ]
  },
  {
   "cell_type": "code",
   "execution_count": 8,
   "metadata": {},
   "outputs": [
    {
     "name": "stdout",
     "output_type": "stream",
     "text": [
      "Net(\n",
      "  (conv1): Conv2d(3, 6, kernel_size=(5, 5), stride=(1, 1))\n",
      "  (conv2): Conv2d(6, 16, kernel_size=(5, 5), stride=(1, 1))\n",
      "  (fc1): Linear(in_features=400, out_features=120, bias=True)\n",
      "  (fc2): Linear(in_features=120, out_features=84, bias=True)\n",
      "  (fc3): Linear(in_features=84, out_features=10, bias=True)\n",
      ")\n"
     ]
    }
   ],
   "source": [
    "import torch.nn as nn\n",
    "import torch.nn.functional as F\n",
    "\n",
    "class Net(nn.Module):\n",
    "    def __init__(self):\n",
    "        super(Net, self).__init__()\n",
    "        self.conv1 =  nn.Conv2d(3, 6, 5)\n",
    "        self.conv2 =  nn.Conv2d(6, 16, 5)\n",
    "        self.fc1 = nn.Linear(16*5*5, 120)\n",
    "        self.fc2 = nn.Linear(120, 84)\n",
    "        self.fc3 = nn.Linear(84, 10)\n",
    "        \n",
    "    def forward(self, x):\n",
    "        x = F.max_pool2d(F.relu(self.conv1(x)), (2, 2))\n",
    "        x = F.max_pool2d(F.relu(self.conv2(x)), 2)\n",
    "        x = x.view(x.size()[0], -1)\n",
    "        x = F.relu(self.fc1(x))\n",
    "        x = F.relu(self.fc2(x))\n",
    "        x = self.fc3(x)\n",
    "        return x\n",
    "net = Net()\n",
    "print(net)\n"
   ]
  },
  {
   "cell_type": "markdown",
   "metadata": {},
   "source": [
    "定义损失函数和优化器(loss和optimizer)"
   ]
  },
  {
   "cell_type": "code",
   "execution_count": 9,
   "metadata": {},
   "outputs": [],
   "source": [
    "from torch import optim\n",
    "criterion = nn.CrossEntropyLoss() #交叉损失函数\n",
    "optimizer = optim.SGD(net.parameters(), lr = 0.001, momentum = 0.9)"
   ]
  },
  {
   "cell_type": "markdown",
   "metadata": {},
   "source": [
    "训练网络"
   ]
  },
  {
   "cell_type": "code",
   "execution_count": 11,
   "metadata": {
    "scrolled": true
   },
   "outputs": [
    {
     "name": "stderr",
     "output_type": "stream",
     "text": [
      "c:\\users\\darren\\appdata\\local\\programs\\python\\python36\\lib\\site-packages\\ipykernel_launcher.py:21: UserWarning: invalid index of a 0-dim tensor. This will be an error in PyTorch 0.5. Use tensor.item() to convert a 0-dim tensor to a Python number\n"
     ]
    },
    {
     "name": "stdout",
     "output_type": "stream",
     "text": [
      "[1,  2000] loss: 1.086\n",
      "[1,  4000] loss: 1.095\n",
      "[1,  6000] loss: 1.086\n",
      "[1,  8000] loss: 1.094\n",
      "[1, 10000] loss: 1.080\n",
      "[1, 12000] loss: 1.083\n",
      "[2,  2000] loss: 0.990\n",
      "[2,  4000] loss: 1.029\n",
      "[2,  6000] loss: 1.004\n",
      "[2,  8000] loss: 1.018\n",
      "[2, 10000] loss: 1.022\n",
      "[2, 12000] loss: 1.026\n",
      "[3,  2000] loss: 0.957\n",
      "[3,  4000] loss: 0.938\n",
      "[3,  6000] loss: 0.964\n",
      "[3,  8000] loss: 0.969\n",
      "[3, 10000] loss: 0.960\n",
      "[3, 12000] loss: 0.985\n",
      "[4,  2000] loss: 0.886\n",
      "[4,  4000] loss: 0.906\n",
      "[4,  6000] loss: 0.919\n",
      "[4,  8000] loss: 0.935\n",
      "[4, 10000] loss: 0.932\n",
      "[4, 12000] loss: 0.939\n",
      "[5,  2000] loss: 0.830\n",
      "[5,  4000] loss: 0.875\n",
      "[5,  6000] loss: 0.881\n",
      "[5,  8000] loss: 0.893\n",
      "[5, 10000] loss: 0.916\n",
      "[5, 12000] loss: 0.887\n",
      "[6,  2000] loss: 0.798\n",
      "[6,  4000] loss: 0.822\n",
      "[6,  6000] loss: 0.859\n",
      "[6,  8000] loss: 0.858\n",
      "[6, 10000] loss: 0.870\n",
      "[6, 12000] loss: 0.880\n",
      "[7,  2000] loss: 0.772\n",
      "[7,  4000] loss: 0.817\n",
      "[7,  6000] loss: 0.814\n",
      "[7,  8000] loss: 0.833\n",
      "[7, 10000] loss: 0.846\n",
      "[7, 12000] loss: 0.851\n",
      "[8,  2000] loss: 0.766\n",
      "[8,  4000] loss: 0.786\n",
      "[8,  6000] loss: 0.777\n",
      "[8,  8000] loss: 0.801\n",
      "[8, 10000] loss: 0.825\n",
      "[8, 12000] loss: 0.841\n",
      "[9,  2000] loss: 0.722\n",
      "[9,  4000] loss: 0.762\n",
      "[9,  6000] loss: 0.774\n",
      "[9,  8000] loss: 0.765\n",
      "[9, 10000] loss: 0.816\n",
      "[9, 12000] loss: 0.809\n",
      "[10,  2000] loss: 0.695\n",
      "[10,  4000] loss: 0.720\n",
      "[10,  6000] loss: 0.757\n",
      "[10,  8000] loss: 0.770\n",
      "[10, 10000] loss: 0.764\n",
      "[10, 12000] loss: 0.789\n",
      "Finished Training\n"
     ]
    }
   ],
   "source": [
    "from torch.autograd import Variable\n",
    "for epoch in range(10):\n",
    "    running_loss = 0.0\n",
    "    for i, data in enumerate(trainloader, 0):\n",
    "        #输入数据\n",
    "        inputs, labels = data\n",
    "        inputs, labels = Variable(inputs), Variable(labels)\n",
    "        \n",
    "        #梯度清零\n",
    "        optimizer.zero_grad()\n",
    "        \n",
    "        #forward + backward\n",
    "        outputs = net(inputs)\n",
    "        loss = criterion(outputs, labels)\n",
    "        loss.backward()\n",
    "        \n",
    "        #更新参数\n",
    "        optimizer.step()\n",
    "        \n",
    "        #打印log信息\n",
    "        running_loss += loss.data[0]\n",
    "        if i % 2000 == 1999: #每2000个batch打印一次训练状态\n",
    "            print('[%d, %5d] loss: %.3f' \\\n",
    "                 % (epoch + 1, i+1, running_loss /2000))\n",
    "            running_loss = 0.0\n",
    "        \n",
    "print('Finished Training')\n"
   ]
  },
  {
   "cell_type": "code",
   "execution_count": 16,
   "metadata": {},
   "outputs": [
    {
     "name": "stdout",
     "output_type": "stream",
     "text": [
      "实际的label：      cat     ship     ship    plane\n"
     ]
    },
    {
     "data": {
      "image/png": "[encoded data removed]",
      "text/plain": [
       "<PIL.Image.Image image mode=RGB size=400x100 at 0x22093DECCC0>"
      ]
     },
     "execution_count": 16,
     "metadata": {},
     "output_type": "execute_result"
    }
   ],
   "source": [
    "dataiter = iter(testloader)\n",
    "images, labels = dataiter.next() # 一个batch返回4张图片\n",
    "print('实际的label：', ' '.join(\\\n",
    "                            '%08s'%classes[labels[j]] for j in range(4)))\n",
    "show(tv.utils.make_grid(images/2-0.5)).resize((400,100))"
   ]
  },
  {
   "cell_type": "code",
   "execution_count": 17,
   "metadata": {},
   "outputs": [
    {
     "name": "stdout",
     "output_type": "stream",
     "text": [
      "预测结果：   cat   car  ship plane\n"
     ]
    }
   ],
   "source": [
    "#计算图片在每个类别上的分数\n",
    "outputs = net(Variable(images))\n",
    "#得分最高的那个类\n",
    "_, predicted = t.max(outputs.data, 1)\n",
    "\n",
    "print('预测结果：', ' '.join('%5s'\\\n",
    "                       % classes[predicted[j]] for j in range(4)))"
   ]
  },
  {
   "cell_type": "code",
   "execution_count": 14,
   "metadata": {},
   "outputs": [
    {
     "name": "stdout",
     "output_type": "stream",
     "text": [
      "10000张测试集中的准确率为：62 %\n"
     ]
    }
   ],
   "source": [
    "correct = 0 #预测正确的图片数\n",
    "total = 0 #总共的图片数\n",
    "for data in testloader:\n",
    "    images, labels = data\n",
    "    outputs = net(Variable(images))\n",
    "    _, predicted = t.max(outputs.data, 1)\n",
    "    total += labels.size(0)\n",
    "    correct += (predicted == labels).sum()\n",
    "print('10000张测试集中的准确率为：%d %%'%(100*correct/total))"
   ]
  },
  {
   "cell_type": "markdown",
   "metadata": {},
   "source": [
    "在GPU上训练"
   ]
  },
  {
   "cell_type": "code",
   "execution_count": 28,
   "metadata": {},
   "outputs": [],
   "source": [
    "if t.cuda.is_available():\n",
    "    net.cuda()\n",
    "    images = images.cuda()\n",
    "    labels = labels.cuda()\n",
    "    output = net(Variable(images))\n",
    "    loss = criterion(output, Variable(labels))"
   ]
  },
  {
   "cell_type": "code",
   "execution_count": null,
   "metadata": {},
   "outputs": [],
   "source": []
  }
 ],
 "metadata": {
  "kernelspec": {
   "display_name": "Python 3",
   "language": "python",
   "name": "python3"
  },
  "language_info": {
   "codemirror_mode": {
    "name": "ipython",
    "version": 3
   },
   "file_extension": ".py",
   "mimetype": "text/x-python",
   "name": "python",
   "nbconvert_exporter": "python",
   "pygments_lexer": "ipython3",
   "version": "3.6.3"
  }
 },
 "nbformat": 4,
 "nbformat_minor": 2
}
