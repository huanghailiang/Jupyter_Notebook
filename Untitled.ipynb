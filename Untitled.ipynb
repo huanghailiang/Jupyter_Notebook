{
 "cells": [
  {
   "cell_type": "code",
   "execution_count": 14,
   "metadata": {},
   "outputs": [
    {
     "name": "stdout",
     "output_type": "stream",
     "text": [
      "This is an add Thread,number is <Thread(Thread-7, started 9816)>\n"
     ]
    }
   ],
   "source": [
    "import threading\n",
    "def thread_job():\n",
    "    print('This is an add Thread,number is %s'%threading.current_thread())\n",
    "    \n",
    "def main():\n",
    "    added_thread = threading.Thread(target=thread_job,)\n",
    "    added_thread.start()\n",
    "    #print(threading.active_count())\n",
    "    #print(threading.enumerate())\n",
    "    #print(threading.current_thread())\n",
    "    \n",
    "if __name__ == '__main__':\n",
    "    main()"
   ]
  },
  {
   "cell_type": "code",
   "execution_count": 28,
   "metadata": {},
   "outputs": [],
   "source": [
    "import tkinter as tk\n",
    "\n",
    "window = tk.Tk()\n",
    "window.title('my window')\n",
    "window.geometry('200x100')\n",
    "\n",
    "var = tk.StringVar()\n",
    "l = tk.Label(window, textvariable=var, bg='green', font=('Arial', 12), width=15,\n",
    "             height=2)\n",
    "#l = tk.Label(window, text='OMG! this is TK!', bg='green', font=('Arial', 12), width=15, height=2)\n",
    "l.pack()\n",
    "\n",
    "on_hit = False\n",
    "def hit_me():\n",
    "    global on_hit\n",
    "    if on_hit == False:\n",
    "        on_hit = True\n",
    "        var.set('you hit me')\n",
    "    else:\n",
    "        on_hit = False\n",
    "        var.set('')\n",
    "\n",
    "b = tk.Button(window, text='hit me', width=15,\n",
    "              height=2, command=hit_me)\n",
    "b.pack()\n",
    "\n",
    "\n",
    "window.mainloop()"
   ]
  },
  {
   "cell_type": "code",
   "execution_count": null,
   "metadata": {},
   "outputs": [],
   "source": []
  }
 ],
 "metadata": {
  "kernelspec": {
   "display_name": "Python 3",
   "language": "python",
   "name": "python3"
  },
  "language_info": {
   "codemirror_mode": {
    "name": "ipython",
    "version": 3
   },
   "file_extension": ".py",
   "mimetype": "text/x-python",
   "name": "python",
   "nbconvert_exporter": "python",
   "pygments_lexer": "ipython3",
   "version": "3.6.3"
  }
 },
 "nbformat": 4,
 "nbformat_minor": 2
}
